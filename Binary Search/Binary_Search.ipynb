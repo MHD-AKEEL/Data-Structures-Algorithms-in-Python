{
 "cells": [
  {
   "cell_type": "code",
   "execution_count": 24,
   "id": "138b8beb-ba31-41ca-ac21-3dfac4120c52",
   "metadata": {},
   "outputs": [],
   "source": [
    "def binary_search(data, target):\n",
    "    low = 0\n",
    "    high = len(data)-1\n",
    "    while low <= high:\n",
    "        mid = (low + high) //2\n",
    "        if data[mid] == target:\n",
    "            return mid\n",
    "        elif data[mid] <target:\n",
    "            low = mid+1\n",
    "        else:\n",
    "            high = mid-1\n",
    "    return -1"
   ]
  },
  {
   "cell_type": "code",
   "execution_count": 25,
   "id": "4c23074c-48a7-42df-af92-27b51ac01ece",
   "metadata": {},
   "outputs": [
    {
     "name": "stdout",
     "output_type": "stream",
     "text": [
      "\n",
      "Result: Target 56 found at index 6\n"
     ]
    }
   ],
   "source": [
    "my_sorted_list = [2, 8, 12, 23, 38, 45, 56, 69, 72]\n",
    "target_value = 56\n",
    "\n",
    "result_index = binary_search(my_sorted_list, target_value)\n",
    "\n",
    "print(f\"\\nResult: Target {target_value} found at index {result_index}\")"
   ]
  },
  {
   "cell_type": "code",
   "execution_count": null,
   "id": "3e04cba8-6c95-4b91-9343-e7743fe2f3da",
   "metadata": {},
   "outputs": [],
   "source": []
  }
 ],
 "metadata": {
  "kernelspec": {
   "display_name": "Python 3 (ipykernel)",
   "language": "python",
   "name": "python3"
  },
  "language_info": {
   "codemirror_mode": {
    "name": "ipython",
    "version": 3
   },
   "file_extension": ".py",
   "mimetype": "text/x-python",
   "name": "python",
   "nbconvert_exporter": "python",
   "pygments_lexer": "ipython3",
   "version": "3.13.5"
  }
 },
 "nbformat": 4,
 "nbformat_minor": 5
}
