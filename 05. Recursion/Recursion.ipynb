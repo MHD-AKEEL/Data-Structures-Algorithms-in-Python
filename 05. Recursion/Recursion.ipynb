{
 "cells": [
  {
   "cell_type": "code",
   "execution_count": 3,
   "id": "251fdc5b-e0c6-4a1d-b74b-09550dc960a1",
   "metadata": {},
   "outputs": [],
   "source": [
    "def factorial(n):\n",
    "    if n<=1:\n",
    "        print(f\"Base case reached: factorial({n}) returns 1\")\n",
    "        return 1\n",
    "    print(f\"Calling factorial({n-1}) from inside factorial({n})\")\n",
    "    result = n*factorial(n-1)\n",
    "    print(f\"Unraveling: factorial({n}) returns {result}\")\n",
    "    return result"
   ]
  },
  {
   "cell_type": "code",
   "execution_count": 12,
   "id": "d8ee959c-0ca4-4741-ba79-485b178eff0b",
   "metadata": {},
   "outputs": [
    {
     "name": "stdout",
     "output_type": "stream",
     "text": [
      "Calling factorial(3) from inside factorial(4)\n",
      "Calling factorial(2) from inside factorial(3)\n",
      "Calling factorial(1) from inside factorial(2)\n",
      "Base case reached: factorial(1) returns 1\n",
      "Unraveling: factorial(2) returns 2\n",
      "Unraveling: factorial(3) returns 6\n",
      "Unraveling: factorial(4) returns 24\n",
      "\n",
      "Final result of factorial(4) is: 24\n"
     ]
    }
   ],
   "source": [
    "final_result=factorial(4)\n",
    "print(f\"\\nFinal result of factorial(4) is: {final_result}\")"
   ]
  },
  {
   "cell_type": "code",
   "execution_count": null,
   "id": "b6fa6216-34e6-4d44-99a8-70d7ced911e5",
   "metadata": {},
   "outputs": [],
   "source": []
  }
 ],
 "metadata": {
  "kernelspec": {
   "display_name": "Python 3 (ipykernel)",
   "language": "python",
   "name": "python3"
  },
  "language_info": {
   "codemirror_mode": {
    "name": "ipython",
    "version": 3
   },
   "file_extension": ".py",
   "mimetype": "text/x-python",
   "name": "python",
   "nbconvert_exporter": "python",
   "pygments_lexer": "ipython3",
   "version": "3.13.5"
  }
 },
 "nbformat": 4,
 "nbformat_minor": 5
}
