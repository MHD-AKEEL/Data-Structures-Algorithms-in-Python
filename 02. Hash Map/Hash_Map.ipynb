{
 "cells": [
  {
   "cell_type": "code",
   "execution_count": 9,
   "id": "1f23bf5f-a6ad-4deb-a560-0593e0b3cee9",
   "metadata": {},
   "outputs": [
    {
     "name": "stdout",
     "output_type": "stream",
     "text": [
      "Initial Employee Data:{101: 'Rizny', 102: 'Akeel', 103: 'Dinesh'}\n"
     ]
    }
   ],
   "source": [
    "employee_data ={\n",
    "    101: \"Rizny\",\n",
    "    102: \"Akeel\",\n",
    "    103: \"Dinesh\"\n",
    "}\n",
    "print(f\"Initial Employee Data:{employee_data}\")"
   ]
  },
  {
   "cell_type": "code",
   "execution_count": 4,
   "id": "f71f0ad3-d22d-4fd8-9278-7b5fa920f6f7",
   "metadata": {},
   "outputs": [
    {
     "name": "stdout",
     "output_type": "stream",
     "text": [
      "The Name For Employee ID 102 is :Akeel\n"
     ]
    }
   ],
   "source": [
    "employee_name = employee_data[102]\n",
    "print(f\"The Name For Employee ID 102 is :{employee_name}\")"
   ]
  },
  {
   "cell_type": "code",
   "execution_count": 10,
   "id": "cc1136e0-0dc4-43ff-9920-7ba45244c127",
   "metadata": {},
   "outputs": [
    {
     "name": "stdout",
     "output_type": "stream",
     "text": [
      "The Name For Employee ID 101 is :Rizny\n"
     ]
    }
   ],
   "source": [
    "employee_name = employee_data[101]\n",
    "print(f\"The Name For Employee ID 101 is :{employee_name}\")"
   ]
  },
  {
   "cell_type": "code",
   "execution_count": null,
   "id": "30247230-b1f2-4121-b7f1-1256d39beabc",
   "metadata": {},
   "outputs": [],
   "source": []
  }
 ],
 "metadata": {
  "kernelspec": {
   "display_name": "Python 3 (ipykernel)",
   "language": "python",
   "name": "python3"
  },
  "language_info": {
   "codemirror_mode": {
    "name": "ipython",
    "version": 3
   },
   "file_extension": ".py",
   "mimetype": "text/x-python",
   "name": "python",
   "nbconvert_exporter": "python",
   "pygments_lexer": "ipython3",
   "version": "3.13.5"
  }
 },
 "nbformat": 4,
 "nbformat_minor": 5
}
