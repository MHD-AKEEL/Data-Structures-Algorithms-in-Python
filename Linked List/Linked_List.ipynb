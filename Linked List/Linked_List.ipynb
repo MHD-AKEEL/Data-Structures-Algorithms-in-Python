{
 "cells": [
  {
   "cell_type": "code",
   "execution_count": 9,
   "id": "840b7c85-e377-4891-8685-9e7000fd77c1",
   "metadata": {},
   "outputs": [],
   "source": [
    "class Node:\n",
    "    def __init__(self, data=None, next_node=None):\n",
    "        self.data = data\n",
    "        self.next_node = next_node\n"
   ]
  },
  {
   "cell_type": "code",
   "execution_count": 10,
   "id": "5c18ab82-405c-4de9-a870-b9683c0793af",
   "metadata": {},
   "outputs": [],
   "source": [
    "node1 = Node(\"A\")\n",
    "node2 = Node(\"B\")\n",
    "node3 = Node(\"C\")\n",
    "\n",
    "node1.next_node = node2\n",
    "node2.next_node = node3"
   ]
  },
  {
   "cell_type": "code",
   "execution_count": null,
   "id": "6b7fa3ee-599e-45af-91ec-18f067c8393a",
   "metadata": {},
   "outputs": [],
   "source": [
    "current_node = node1\n",
    "print(\"Linked List Traversal:\")\n",
    "while current_node is not None:\n",
    "    print(current_node.data, end=\"->\")\n",
    "    current_node = current_node.next_node"
   ]
  },
  {
   "cell_type": "code",
   "execution_count": null,
   "id": "7e6d78ce-ca8f-4ed0-911b-929ca089b667",
   "metadata": {},
   "outputs": [],
   "source": []
  }
 ],
 "metadata": {
  "kernelspec": {
   "display_name": "Python 3 (ipykernel)",
   "language": "python",
   "name": "python3"
  },
  "language_info": {
   "codemirror_mode": {
    "name": "ipython",
    "version": 3
   },
   "file_extension": ".py",
   "mimetype": "text/x-python",
   "name": "python",
   "nbconvert_exporter": "python",
   "pygments_lexer": "ipython3",
   "version": "3.13.5"
  }
 },
 "nbformat": 4,
 "nbformat_minor": 5
}
