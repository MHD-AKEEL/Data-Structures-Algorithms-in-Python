{
 "cells": [
  {
   "cell_type": "code",
   "execution_count": 1,
   "id": "a2afe791-7814-4e3c-a5ba-07e4212e3ecf",
   "metadata": {},
   "outputs": [],
   "source": [
    "def linear_search(data, target):\n",
    "    print(f\"Searching for {target} in the list...\")\n",
    "    for i in range(len(data)):\n",
    "        print(f\"checking item at index {i}: {data[i]}\")\n",
    "        if data[i] == target:\n",
    "            print(\"Target found!\")\n",
    "            return i\n",
    "\n",
    "            print(\"Target not found.\")\n",
    "            return -1"
   ]
  },
  {
   "cell_type": "code",
   "execution_count": 2,
   "id": "150ea12d-ebf4-4056-8ec8-247b8c584a3e",
   "metadata": {},
   "outputs": [
    {
     "name": "stdout",
     "output_type": "stream",
     "text": [
      "Searching for 16 in the list...\n",
      "checking item at index 0: 5\n",
      "checking item at index 1: 12\n",
      "checking item at index 2: 8\n",
      "checking item at index 3: 23\n",
      "checking item at index 4: 16\n",
      "Target found!\n",
      "\n",
      " Final Result: Target 16 is at index 4\n"
     ]
    }
   ],
   "source": [
    "my_list = [5, 12, 8, 23, 16, 2, 38]\n",
    "target_value = 16\n",
    "result_index = linear_search(my_list, target_value)\n",
    "print(f\"\\n Final Result: Target {target_value} is at index {result_index}\")"
   ]
  },
  {
   "cell_type": "code",
   "execution_count": null,
   "id": "626d3c55-c541-48ec-8d03-0537b0afce6a",
   "metadata": {},
   "outputs": [],
   "source": []
  }
 ],
 "metadata": {
  "kernelspec": {
   "display_name": "Python 3 (ipykernel)",
   "language": "python",
   "name": "python3"
  },
  "language_info": {
   "codemirror_mode": {
    "name": "ipython",
    "version": 3
   },
   "file_extension": ".py",
   "mimetype": "text/x-python",
   "name": "python",
   "nbconvert_exporter": "python",
   "pygments_lexer": "ipython3",
   "version": "3.13.5"
  }
 },
 "nbformat": 4,
 "nbformat_minor": 5
}
